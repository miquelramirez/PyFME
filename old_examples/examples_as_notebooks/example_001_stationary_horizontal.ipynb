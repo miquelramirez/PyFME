{
 "cells": [
  {
   "cell_type": "markdown",
   "metadata": {},
   "source": [
    "# EXAMPLE 001\n",
    "\n",
    "Cessna 172, ISA1976 integrated with Flat Earth (Euler angles).\n",
    "\n",
    "Example with trimmed aircraft: stationary, horizontal, symmetric,\n",
    "wings level flight.\n",
    "\n",
    "The main purpose of this example is to check if the aircraft trimmed \n",
    "in a given state maintains the trimmed flight condition."
   ]
  },
  {
   "cell_type": "code",
   "execution_count": 1,
   "metadata": {
    "collapsed": true
   },
   "outputs": [],
   "source": [
    "# -*- coding: utf-8 -*-"
   ]
  },
  {
   "cell_type": "markdown",
   "metadata": {},
   "source": [
    "Import python libreries needed."
   ]
  },
  {
   "cell_type": "code",
   "execution_count": 2,
   "metadata": {
    "collapsed": true
   },
   "outputs": [],
   "source": [
    "import sys\n",
    "sys.path.append('../../src')\n",
    "%matplotlib inline\n",
    "import numpy as np\n",
    "import matplotlib.pyplot as plt\n",
    "from mpl_toolkits.mplot3d import Axes3D"
   ]
  },
  {
   "cell_type": "markdown",
   "metadata": {},
   "source": [
    "Import PyFME classes"
   ]
  },
  {
   "cell_type": "code",
   "execution_count": 4,
   "metadata": {},
   "outputs": [],
   "source": [
    "from pyfme.aircrafts import Cessna172\n",
    "from pyfme.environment.environment import Environment\n",
    "from pyfme.environment.atmosphere import ISA1976\n",
    "from pyfme.environment.gravity import VerticalConstant\n",
    "from pyfme.environment.wind import NoWind\n",
    "from pyfme.models import EulerFlatEarth\n",
    "from pyfme.simulator import Simulation\n",
    "from pyfme.utils.trimmer import steady_state_trim"
   ]
  },
  {
   "cell_type": "markdown",
   "metadata": {},
   "source": [
    "Initialize variables"
   ]
  },
  {
   "cell_type": "code",
   "execution_count": 5,
   "metadata": {
    "collapsed": true
   },
   "outputs": [],
   "source": [
    "aircraft = Cessna172()\n",
    "atmosphere = ISA1976()\n",
    "gravity = VerticalConstant()\n",
    "wind = NoWind()\n",
    "environment = Environment(atmosphere, gravity, wind)"
   ]
  },
  {
   "cell_type": "markdown",
   "metadata": {},
   "source": [
    "Initial conditions"
   ]
  },
  {
   "cell_type": "code",
   "execution_count": 6,
   "metadata": {
    "collapsed": true
   },
   "outputs": [],
   "source": [
    "TAS = 45  # m/s\n",
    "h0 = 2000  # m\n",
    "psi0 = 1.0  # rad\n",
    "x0, y0 = 0, 0  # m\n",
    "turn_rate = 0.0  # rad/s\n",
    "gamma0 = 0.0  # rad"
   ]
  },
  {
   "cell_type": "code",
   "execution_count": 8,
   "metadata": {
    "collapsed": true
   },
   "outputs": [],
   "source": [
    "from pyfme.models.state.position import EarthPosition\n",
    "\n",
    "pos = EarthPosition(x=0, y=0, height=1000)\n",
    "psi = 0.5  # rad\n",
    "TAS = 45  # m/s\n",
    "controls0 = {'delta_elevator': 0, 'delta_aileron': 0, 'delta_rudder': 0, 'delta_t': 0.5}"
   ]
  },
  {
   "cell_type": "code",
   "execution_count": 9,
   "metadata": {
    "collapsed": true
   },
   "outputs": [],
   "source": [
    "trimmed_state, trimmed_controls = steady_state_trim(\n",
    "    aircraft,\n",
    "    environment,\n",
    "    pos,\n",
    "    psi,\n",
    "    TAS,\n",
    "    controls0\n",
    ")    "
   ]
  },
  {
   "cell_type": "markdown",
   "metadata": {},
   "source": [
    "Define system"
   ]
  },
  {
   "cell_type": "code",
   "execution_count": 10,
   "metadata": {},
   "outputs": [],
   "source": [
    "system = system = EulerFlatEarth(t0=0, full_state=trimmed_state)\n",
    "\n",
    "not_trimmed_controls = {'delta_elevator': 0.05,\n",
    "                        'delta_aileron': 0.01 * np.sign(turn_rate),\n",
    "                        'delta_rudder': 0.01 * np.sign(turn_rate),\n",
    "                        'delta_t': 0.5}\n",
    "\n",
    "controls2trim = ['delta_elevator', 'delta_aileron', 'delta_rudder', 'delta_t']"
   ]
  },
  {
   "cell_type": "code",
   "execution_count": 11,
   "metadata": {},
   "outputs": [
    {
     "ename": "NameError",
     "evalue": "name 'steady_state_flight_trimmer' is not defined",
     "output_type": "error",
     "traceback": [
      "\u001b[0;31m---------------------------------------------------------------------------\u001b[0m",
      "\u001b[0;31mNameError\u001b[0m                                 Traceback (most recent call last)",
      "\u001b[0;32m<ipython-input-11-b55dcd6df8ee>\u001b[0m in \u001b[0;36m<module>\u001b[0;34m()\u001b[0m\n\u001b[0;32m----> 1\u001b[0;31m trimmed_ac, trimmed_sys, trimmed_env, results = steady_state_flight_trimmer(\n\u001b[0m\u001b[1;32m      2\u001b[0m     \u001b[0maircraft\u001b[0m\u001b[0;34m,\u001b[0m \u001b[0msystem\u001b[0m\u001b[0;34m,\u001b[0m \u001b[0menvironment\u001b[0m\u001b[0;34m,\u001b[0m \u001b[0mTAS\u001b[0m\u001b[0;34m=\u001b[0m\u001b[0mTAS\u001b[0m\u001b[0;34m,\u001b[0m \u001b[0mcontrols_0\u001b[0m\u001b[0;34m=\u001b[0m\u001b[0mnot_trimmed_controls\u001b[0m\u001b[0;34m,\u001b[0m\u001b[0;34m\u001b[0m\u001b[0m\n\u001b[1;32m      3\u001b[0m     controls2trim=controls2trim, gamma=gamma0, turn_rate=turn_rate, verbose=1)\n",
      "\u001b[0;31mNameError\u001b[0m: name 'steady_state_flight_trimmer' is not defined"
     ]
    }
   ],
   "source": [
    "trimmed_ac, trimmed_sys, trimmed_env, results = steady_state_flight_trimmer(\n",
    "    aircraft, system, environment, TAS=TAS, controls_0=not_trimmed_controls,\n",
    "    controls2trim=controls2trim, gamma=gamma0, turn_rate=turn_rate, verbose=1)"
   ]
  },
  {
   "cell_type": "markdown",
   "metadata": {},
   "source": [
    "Steady state flight trimmer results"
   ]
  },
  {
   "cell_type": "code",
   "execution_count": null,
   "metadata": {},
   "outputs": [],
   "source": [
    "print('delta_elevator = ',\"%8.4f\" % np.rad2deg(results['delta_elevator']), 'deg')\n",
    "print('delta_aileron = ', \"%8.4f\" % np.rad2deg(results['delta_aileron']), 'deg')\n",
    "print('delta_rudder = ', \"%8.4f\" % np.rad2deg(results['delta_rudder']), 'deg')\n",
    "print('delta_t = ', \"%8.4f\" % results['delta_t'], '%')\n",
    "print()\n",
    "print('alpha = ', \"%8.4f\" % np.rad2deg(results['alpha']), 'deg')\n",
    "print('beta = ', \"%8.4f\" % np.rad2deg(results['beta']), 'deg')\n",
    "print()\n",
    "print('u = ', \"%8.4f\" % results['u'], 'm/s')\n",
    "print('v = ', \"%8.4f\" % results['v'], 'm/s')\n",
    "print('w = ', \"%8.4f\" % results['w'], 'm/s')\n",
    "print()\n",
    "print('psi = ', \"%8.4f\" % np.rad2deg(psi0), 'deg')\n",
    "print('theta = ', \"%8.4f\" % np.rad2deg(results['theta']), 'deg')\n",
    "print('phi = ', \"%8.4f\" % np.rad2deg(results['phi']), 'deg')\n",
    "print()\n",
    "print('p =', \"%8.4f\" % results['p'], 'rad/s')\n",
    "print('q =', \"%8.4f\" % results['q'], 'rad/s')\n",
    "print('r =', \"%8.4f\" % results['r'], 'rad/s')"
   ]
  },
  {
   "cell_type": "markdown",
   "metadata": {},
   "source": [
    "Initialise simulation"
   ]
  },
  {
   "cell_type": "code",
   "execution_count": null,
   "metadata": {
    "collapsed": true
   },
   "outputs": [],
   "source": [
    "my_simulation = BatchSimulation(trimmed_ac, trimmed_sys, trimmed_env)"
   ]
  },
  {
   "cell_type": "code",
   "execution_count": null,
   "metadata": {
    "collapsed": true
   },
   "outputs": [],
   "source": [
    "tfin = 10  # seconds\n",
    "N = tfin * 100 + 1\n",
    "time = np.linspace(0, tfin, N)\n",
    "initial_controls = trimmed_ac.controls"
   ]
  },
  {
   "cell_type": "code",
   "execution_count": null,
   "metadata": {
    "collapsed": true
   },
   "outputs": [],
   "source": [
    "controls = {}\n",
    "for control_name, control_value in initial_controls.items():\n",
    "    controls[control_name] = np.ones_like(time) * control_value\n",
    "\n",
    "my_simulation.set_controls(time, controls)"
   ]
  },
  {
   "cell_type": "code",
   "execution_count": null,
   "metadata": {
    "collapsed": true
   },
   "outputs": [],
   "source": [
    "par_list = ['x_earth', 'y_earth', 'height',\n",
    "            'psi', 'theta', 'phi',\n",
    "            'u', 'v', 'w',\n",
    "            'v_north', 'v_east', 'v_down',\n",
    "            'p', 'q', 'r',\n",
    "            'alpha', 'beta', 'TAS',\n",
    "            'F_xb', 'F_yb', 'F_zb',\n",
    "            'M_xb', 'M_yb', 'M_zb']"
   ]
  },
  {
   "cell_type": "markdown",
   "metadata": {},
   "source": [
    "Run Simulation"
   ]
  },
  {
   "cell_type": "code",
   "execution_count": null,
   "metadata": {
    "collapsed": true
   },
   "outputs": [],
   "source": [
    "my_simulation.set_par_dict(par_list)\n",
    "my_simulation.run_simulation()"
   ]
  },
  {
   "cell_type": "markdown",
   "metadata": {},
   "source": [
    "Plot results"
   ]
  },
  {
   "cell_type": "code",
   "execution_count": null,
   "metadata": {
    "collapsed": true
   },
   "outputs": [],
   "source": [
    "plt.style.use('ggplot')"
   ]
  },
  {
   "cell_type": "code",
   "execution_count": null,
   "metadata": {
    "scrolled": false
   },
   "outputs": [],
   "source": [
    "for ii in range(len(par_list) // 3):\n",
    "    three_params = par_list[3 * ii:3 * ii + 3]\n",
    "    fig, ax = plt.subplots(3, 1, sharex=True)\n",
    "    for jj, par in enumerate(three_params):\n",
    "        ax[jj].plot(time, my_simulation.par_dict[par])\n",
    "        ax[jj].set_ylabel(par)\n",
    "        ax[jj].set_xlabel('time (s)')\n",
    "\n",
    "fig = plt.figure()\n",
    "ax = Axes3D(fig)\n",
    "ax.plot(my_simulation.par_dict['x_earth'],\n",
    "        my_simulation.par_dict['y_earth'],\n",
    "        my_simulation.par_dict['height'])\n",
    "\n",
    "ax.plot(my_simulation.par_dict['x_earth'],\n",
    "        my_simulation.par_dict['y_earth'],\n",
    "        my_simulation.par_dict['height'] * 0)\n",
    "ax.set_xlabel('x_earth')\n",
    "ax.set_ylabel('y_earth')\n",
    "ax.set_zlabel('z_earth')\n",
    "\n",
    "plt.show()"
   ]
  },
  {
   "cell_type": "code",
   "execution_count": null,
   "metadata": {
    "collapsed": true
   },
   "outputs": [],
   "source": []
  }
 ],
 "metadata": {
  "anaconda-cloud": {},
  "celltoolbar": "Raw Cell Format",
  "kernelspec": {
   "display_name": "Python 3",
   "language": "python",
   "name": "python3"
  },
  "language_info": {
   "codemirror_mode": {
    "name": "ipython",
    "version": 3
   },
   "file_extension": ".py",
   "mimetype": "text/x-python",
   "name": "python",
   "nbconvert_exporter": "python",
   "pygments_lexer": "ipython3",
   "version": "3.5.2"
  }
 },
 "nbformat": 4,
 "nbformat_minor": 1
}
