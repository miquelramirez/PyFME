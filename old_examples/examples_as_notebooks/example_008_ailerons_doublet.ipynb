{
 "cells": [
  {
   "cell_type": "markdown",
   "metadata": {},
   "source": [
    "# EXAMPLE 008\n",
    "\n",
    "Cessna 172, ISA1976 integrated with Flat Earth (Euler angles).\n",
    "\n",
    "Evolution of the aircraft after a roll perturbation (delta doublet \n",
    "applied on the ailerons).\n",
    "\n",
    "Trimmed in stationary, horizontal, symmetric, wings level flight."
   ]
  },
  {
   "cell_type": "code",
   "execution_count": null,
   "metadata": {
    "collapsed": true
   },
   "outputs": [],
   "source": [
    "# -*- coding: utf-8 -*-"
   ]
  },
  {
   "cell_type": "markdown",
   "metadata": {},
   "source": [
    "Import python libreries needed."
   ]
  },
  {
   "cell_type": "code",
   "execution_count": null,
   "metadata": {
    "collapsed": true
   },
   "outputs": [],
   "source": [
    "%matplotlib inline\n",
    "import numpy as np\n",
    "import matplotlib.pyplot as plt\n",
    "from mpl_toolkits.mplot3d import Axes3D"
   ]
  },
  {
   "cell_type": "markdown",
   "metadata": {},
   "source": [
    "Import PyFME classes"
   ]
  },
  {
   "cell_type": "code",
   "execution_count": null,
   "metadata": {
    "collapsed": false
   },
   "outputs": [],
   "source": [
    "from pyfme.aircrafts import Cessna172\n",
    "from pyfme.environment.environment import Environment\n",
    "from pyfme.environment.atmosphere import ISA1976\n",
    "from pyfme.environment.gravity import VerticalConstant\n",
    "from pyfme.environment.wind import NoWind\n",
    "from pyfme.models.systems import EulerFlatEarth\n",
    "from pyfme.simulator import BatchSimulation\n",
    "from pyfme.utils.trimmer import steady_state_flight_trimmer\n",
    "from pyfme.utils.input_generator import doublet"
   ]
  },
  {
   "cell_type": "markdown",
   "metadata": {},
   "source": [
    "Initialize variables"
   ]
  },
  {
   "cell_type": "code",
   "execution_count": null,
   "metadata": {
    "collapsed": false
   },
   "outputs": [],
   "source": [
    "aircraft = Cessna172()\n",
    "atmosphere = ISA1976()\n",
    "gravity = VerticalConstant()\n",
    "wind = NoWind()\n",
    "environment = Environment(atmosphere, gravity, wind)"
   ]
  },
  {
   "cell_type": "markdown",
   "metadata": {},
   "source": [
    "Initial conditions"
   ]
  },
  {
   "cell_type": "code",
   "execution_count": null,
   "metadata": {
    "collapsed": true
   },
   "outputs": [],
   "source": [
    "TAS = 45  # m/s\n",
    "h0 = 2000  # m\n",
    "psi0 = 1.0  # rad\n",
    "x0, y0 = 0, 0  # m\n",
    "turn_rate = 0.0  # rad/s\n",
    "gamma0 = 0.0  # rad"
   ]
  },
  {
   "cell_type": "markdown",
   "metadata": {},
   "source": [
    "Define system"
   ]
  },
  {
   "cell_type": "code",
   "execution_count": null,
   "metadata": {
    "collapsed": true
   },
   "outputs": [],
   "source": [
    "system = EulerFlatEarth(lat=0, lon=0, h=h0, psi=psi0, x_earth=x0, y_earth=y0)\n",
    "\n",
    "not_trimmed_controls = {'delta_elevator': 0.05,\n",
    "                        'delta_aileron': 0.01 * np.sign(turn_rate),\n",
    "                        'delta_rudder': 0.01 * np.sign(turn_rate),\n",
    "                        'delta_t': 0.5}\n",
    "\n",
    "controls2trim = ['delta_elevator', 'delta_aileron', 'delta_rudder', 'delta_t']"
   ]
  },
  {
   "cell_type": "code",
   "execution_count": null,
   "metadata": {
    "collapsed": false
   },
   "outputs": [],
   "source": [
    "trimmed_ac, trimmed_sys, trimmed_env, results = steady_state_flight_trimmer(\n",
    "    aircraft, system, environment, TAS=TAS, controls_0=not_trimmed_controls,\n",
    "    controls2trim=controls2trim, gamma=gamma0, turn_rate=turn_rate, verbose=1)"
   ]
  },
  {
   "cell_type": "markdown",
   "metadata": {},
   "source": [
    "Steady state flight trimmer results"
   ]
  },
  {
   "cell_type": "code",
   "execution_count": null,
   "metadata": {
    "collapsed": false
   },
   "outputs": [],
   "source": [
    "print('delta_elevator = ',\"%8.4f\" % np.rad2deg(results['delta_elevator']), 'deg')\n",
    "print('delta_aileron = ', \"%8.4f\" % np.rad2deg(results['delta_aileron']), 'deg')\n",
    "print('delta_rudder = ', \"%8.4f\" % np.rad2deg(results['delta_rudder']), 'deg')\n",
    "print('delta_t = ', \"%8.4f\" % results['delta_t'], '%')\n",
    "print()\n",
    "print('alpha = ', \"%8.4f\" % np.rad2deg(results['alpha']), 'deg')\n",
    "print('beta = ', \"%8.4f\" % np.rad2deg(results['beta']), 'deg')\n",
    "print()\n",
    "print('u = ', \"%8.4f\" % results['u'], 'm/s')\n",
    "print('v = ', \"%8.4f\" % results['v'], 'm/s')\n",
    "print('w = ', \"%8.4f\" % results['w'], 'm/s')\n",
    "print()\n",
    "print('psi = ', \"%8.4f\" % np.rad2deg(psi0), 'deg')\n",
    "print('theta = ', \"%8.4f\" % np.rad2deg(results['theta']), 'deg')\n",
    "print('phi = ', \"%8.4f\" % np.rad2deg(results['phi']), 'deg')\n",
    "print()\n",
    "print('p =', \"%8.4f\" % results['p'], 'rad/s')\n",
    "print('q =', \"%8.4f\" % results['q'], 'rad/s')\n",
    "print('r =', \"%8.4f\" % results['r'], 'rad/s')"
   ]
  },
  {
   "cell_type": "markdown",
   "metadata": {},
   "source": [
    "Initialise simulation"
   ]
  },
  {
   "cell_type": "code",
   "execution_count": null,
   "metadata": {
    "collapsed": true
   },
   "outputs": [],
   "source": [
    "my_simulation = BatchSimulation(trimmed_ac, trimmed_sys, trimmed_env)"
   ]
  },
  {
   "cell_type": "code",
   "execution_count": null,
   "metadata": {
    "collapsed": true
   },
   "outputs": [],
   "source": [
    "tfin = 20  # seconds\n",
    "N = tfin * 100 + 1\n",
    "time = np.linspace(0, tfin, N)\n",
    "initial_controls = trimmed_ac.controls"
   ]
  },
  {
   "cell_type": "code",
   "execution_count": null,
   "metadata": {
    "collapsed": true
   },
   "outputs": [],
   "source": [
    "controls = {}\n",
    "for control_name, control_value in initial_controls.items():\n",
    "    controls[control_name] = np.ones_like(time) * control_value"
   ]
  },
  {
   "cell_type": "markdown",
   "metadata": {},
   "source": [
    "Aileron doublet; Aileron travel: +20º/-15º"
   ]
  },
  {
   "cell_type": "code",
   "execution_count": null,
   "metadata": {
    "collapsed": true
   },
   "outputs": [],
   "source": [
    "amplitude = np.deg2rad(15)\n",
    "controls['delta_aileron'] = doublet(t_init=2,\n",
    "                                    T=1,\n",
    "                                    A=amplitude,\n",
    "                                    time=time,\n",
    "                                    offset=np.deg2rad(0))\n",
    "#                                     offset=initial_controls['delta_aileron'])"
   ]
  },
  {
   "cell_type": "code",
   "execution_count": null,
   "metadata": {
    "collapsed": true
   },
   "outputs": [],
   "source": [
    "my_simulation.set_controls(time, controls)"
   ]
  },
  {
   "cell_type": "code",
   "execution_count": null,
   "metadata": {
    "collapsed": true
   },
   "outputs": [],
   "source": [
    "par_list = ['x_earth', 'y_earth', 'height',\n",
    "            'psi', 'theta', 'phi',\n",
    "            'u', 'v', 'w',\n",
    "            'v_north', 'v_east', 'v_down',\n",
    "            'p', 'q', 'r',\n",
    "            'alpha', 'beta', 'TAS',\n",
    "            'F_xb', 'F_yb', 'F_zb',\n",
    "            'M_xb', 'M_yb', 'M_zb']"
   ]
  },
  {
   "cell_type": "markdown",
   "metadata": {},
   "source": [
    "Run Simulation"
   ]
  },
  {
   "cell_type": "code",
   "execution_count": null,
   "metadata": {
    "collapsed": true
   },
   "outputs": [],
   "source": [
    "my_simulation.set_par_dict(par_list)\n",
    "my_simulation.run_simulation()"
   ]
  },
  {
   "cell_type": "markdown",
   "metadata": {},
   "source": [
    "Plot results"
   ]
  },
  {
   "cell_type": "code",
   "execution_count": null,
   "metadata": {
    "collapsed": true
   },
   "outputs": [],
   "source": [
    "plt.style.use('ggplot')"
   ]
  },
  {
   "cell_type": "code",
   "execution_count": null,
   "metadata": {
    "collapsed": false,
    "scrolled": false
   },
   "outputs": [],
   "source": [
    "for ii in range(len(par_list) // 3):\n",
    "    three_params = par_list[3 * ii:3 * ii + 3]\n",
    "    fig, ax = plt.subplots(3, 1, sharex=True)\n",
    "    for jj, par in enumerate(three_params):\n",
    "        ax[jj].plot(time, my_simulation.par_dict[par])\n",
    "        ax[jj].set_ylabel(par)\n",
    "        ax[jj].set_xlabel('time (s)')\n",
    "\n",
    "fig = plt.figure()\n",
    "ax = Axes3D(fig)\n",
    "ax.plot(my_simulation.par_dict['x_earth'],\n",
    "        my_simulation.par_dict['y_earth'],\n",
    "        my_simulation.par_dict['height'])\n",
    "\n",
    "ax.plot(my_simulation.par_dict['x_earth'],\n",
    "        my_simulation.par_dict['y_earth'],\n",
    "        my_simulation.par_dict['height'] * 0)\n",
    "ax.set_xlabel('x_earth')\n",
    "ax.set_ylabel('y_earth')\n",
    "ax.set_zlabel('z_earth')\n",
    "\n",
    "plt.show()"
   ]
  }
 ],
 "metadata": {
  "anaconda-cloud": {},
  "celltoolbar": "Raw Cell Format",
  "kernelspec": {
   "display_name": "Python 3",
   "language": "python",
   "name": "python3"
  },
  "language_info": {
   "codemirror_mode": {
    "name": "ipython",
    "version": 3
   },
   "file_extension": ".py",
   "mimetype": "text/x-python",
   "name": "python",
   "nbconvert_exporter": "python",
   "pygments_lexer": "ipython3",
   "version": "3.5.1"
  }
 },
 "nbformat": 4,
 "nbformat_minor": 0
}
